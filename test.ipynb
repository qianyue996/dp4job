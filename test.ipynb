{
 "cells": [
  {
   "cell_type": "code",
   "execution_count": null,
   "metadata": {},
   "outputs": [],
   "source": [
    "from langchain_community.document_loaders import CSVLoader\n",
    "from langchain_text_splitters import RecursiveCharacterTextSplitter\n",
    "import pandas as pd\n",
    "from langchain.schema import Document\n",
    "from langchain_community.vectorstores import Chroma\n",
    "from langchain_huggingface import HuggingFaceEmbeddings\n",
    "from tqdm import tqdm\n",
    "import os\n",
    "\n",
    "job_info = \"\"\"招聘信息：\n",
    "发布时间：2023-{post_time}\n",
    "公司名称： {company_name}\n",
    "公司规模： {company_size}\n",
    "公司类型： {company_type}\n",
    "公司描述： {company_desc}\n",
    "岗位类型： {job_type}\n",
    "岗位名称： {job_name}\n",
    "学历： {education}\n",
    "薪资： {salary}\n",
    "招聘人数：{need}\n",
    "福利： {walfare}\n",
    "城市:  {city}\n",
    "经验要求： {experience}\n",
    "工作地点： {job_area}\n",
    "岗位描述： {job_desc}\n",
    "\"\"\""
   ]
  },
  {
   "cell_type": "code",
   "execution_count": null,
   "metadata": {},
   "outputs": [],
   "source": [
    "docs = []\n",
    "batch_size = 1000\n",
    "df = pd.read_csv(r\"raw_data\\zhaopin.csv\", encoding=\"utf-8\", chunksize=batch_size)\n",
    "for i, chunk_df in enumerate(df):\n",
    "    for index, row in chunk_df.iterrows():\n",
    "        content = job_info.format(\n",
    "            post_time = row[1],\n",
    "            company_name = row[2],\n",
    "            company_size = row[3],\n",
    "            company_type = row[4],\n",
    "            job_type = row[5],\n",
    "            job_name = row[6],\n",
    "            education = row[7],\n",
    "            salary = row[8],\n",
    "            need = row[9],\n",
    "            walfare = row[10],\n",
    "            city = row[11],\n",
    "            experience = row[12],\n",
    "            company_desc = row[13],\n",
    "            job_area = row[14],\n",
    "            job_desc = row[15]\n",
    "        )\n",
    "        metadata = {\"row_number\": index}\n",
    "        document = Document(page_content=content, metadata=metadata)\n",
    "        docs.append(document)"
   ]
  },
  {
   "cell_type": "code",
   "execution_count": null,
   "metadata": {},
   "outputs": [
    {
     "name": "stdout",
     "output_type": "stream",
     "text": [
      "page_content='招聘信息：\n",
      "发布时间：2023-12-30发布\n",
      "公司名称： 成都聚思力信息技术有限公司\n",
      "公司规模： 500-1000人\n",
      "公司类型： 外资（欧美）\n",
      "公司描述： 计算机软件\n",
      "岗位类型： 系统管理员/网络管理员网站运营专员\n",
      "岗位名称： 英语监控文员/Monitor助理（六险一金，上五休二）\n",
      "学历： 大专\n",
      "薪资： 3-4千/月\n",
      "招聘人数：招5人\n",
      "福利： 五险一金补充医疗保险员工旅游餐饮补贴交通补贴出国机会绩效奖金年终奖金弹性工作定期体检\n",
      "城市:  成都\n",
      "经验要求： 无工作经验\n",
      "工作地点： 上班地址：成都天府大道天府软件园A7--3楼（地铁1号线天府三街站C2出口，118、115、102、84、501、504路车均可到达）\t\t\t\t\t\t\t\n",
      "岗位描述： 岗位职责（工作内容将有专门人员进行培训）：1.通过Internet网络和计算机远程监控公司的库房, 网络，服务器以达到部门的各项工作目标2.监督和监控仓库，网络和服务器的安全，达到美国总部要求的工作目标3.有优秀的沟通技巧，能很好地和全球客户、主管沟通，达到理想的效果4.及时有效地发现团队日常工作中的问题并解决，向直接上级及时汇报团队日常工作情况5.有效的帮助团队成员提高和成长职位要求：1.英语口语和写作优秀2.稳重踏实，积极主动，具有很强的责任感，较强的学习能力和进取精神3.最好有计算机相关背景4.熟悉微软办公软件5.分析和解决问题的能力6.较强的沟通能力7.此岗位分早中晚班轮班制，如果不能接受请勿投递（早班：7:00-15:00；中班：14:00-22:00，（较少）晚班：22:00-7:00）欢迎残疾人士应聘加入工作地址成都高新区天府大道中段765号天府软件园A7-3楼（地铁1号线天府三街C2出口；118、115、102、84、501、504、545路车均可到达）\n",
      "' metadata={'row_number': 51521}\n"
     ]
    }
   ],
   "source": []
  },
  {
   "cell_type": "code",
   "execution_count": null,
   "metadata": {},
   "outputs": [],
   "source": []
  },
  {
   "cell_type": "code",
   "execution_count": null,
   "metadata": {},
   "outputs": [],
   "source": []
  }
 ],
 "metadata": {
  "kernelspec": {
   "display_name": ".venv",
   "language": "python",
   "name": "python3"
  },
  "language_info": {
   "codemirror_mode": {
    "name": "ipython",
    "version": 3
   },
   "file_extension": ".py",
   "mimetype": "text/x-python",
   "name": "python",
   "nbconvert_exporter": "python",
   "pygments_lexer": "ipython3",
   "version": "3.12.7"
  }
 },
 "nbformat": 4,
 "nbformat_minor": 2
}
