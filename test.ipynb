{
 "cells": [
  {
   "cell_type": "code",
   "execution_count": 1,
   "metadata": {},
   "outputs": [],
   "source": [
    "from langchain.vectorstores import Chroma\n",
    "from langchain_huggingface import HuggingFaceEmbeddings"
   ]
  },
  {
   "cell_type": "code",
   "execution_count": 2,
   "metadata": {},
   "outputs": [],
   "source": [
    "# 定义 Embeddings\n",
    "embeddings = HuggingFaceEmbeddings(model_name=\"models/embedding_model\")"
   ]
  },
  {
   "cell_type": "code",
   "execution_count": 4,
   "metadata": {},
   "outputs": [],
   "source": [
    "# 向量数据库持久化路径\n",
    "persist_directory = 'data_base/vector_db/chroma'\n",
    "\n",
    "# 加载数据库\n",
    "vectordb = Chroma(\n",
    "    persist_directory=persist_directory, \n",
    "    embedding_function=embeddings\n",
    ")\n",
    "retriever=vectordb.as_retriever(search_kwargs={\"k\":5})"
   ]
  },
  {
   "cell_type": "code",
   "execution_count": 8,
   "metadata": {},
   "outputs": [],
   "source": [
    "# 文档格式化（把文档列表转换成字符串）\n",
    "def format_docs(docs):\n",
    "    return \"\\n\\n\".join(doc.page_content for doc in docs)\n",
    "docs = retriever.invoke('广州编程岗位')"
   ]
  },
  {
   "cell_type": "code",
   "execution_count": 9,
   "metadata": {},
   "outputs": [
    {
     "data": {
      "text/plain": [
       "'crawl_datetime: /12/30\\npost_time: 12-29发布\\ncompany_name: 广州小朋网络科技有限公司\\ncompany_size: 150-500人\\ncompany_type: 民营公司\\njob_type: 测试工程师软件测试\\njob_name: 游戏测试工程师\\nedu: 大专\\nsalary: 0.7-1.2万/月\\npeople_need: 招1人\\nwalfare: 五险一金弹性工作节日福利带薪年假周末双休定期体检生日祝福绩效奖金年终奖金电影票\\ncity: 广州-天河区\\nworkingexp: 2年经验\\ncompany_area: 网络游戏\\nwork_place: 上班地址：广州市天河区\\t\\t\\t\\t\\t\\t\\t\\nrequire_content: 岗位职责：1.根据公司及用户需求测试游戏软件，是否存在bug；2.根据游戏功能设计编写测试用例；3.执行测试，分析、提交测试结果；4.跟踪游戏缺陷反馈，并推动游戏缺陷的解决方案；5.验证已提交的bug，并检验版本/功能的修缮程度，对版本/功能质量进行评估，为版本/功能能否上线提供可行性建议。任职要求：1.了解软件测试的流程；2.具有良好的责任心，沟通能力，协调能力，学习能力，逻辑分析能力；3.有一定计算机和软件基础；4.主动工作并能承受一定压力；5. 思维逻辑清晰，具备良好的理解能力。\\n\\ncrawl_datetime: /12/30\\npost_time: 12-29发布\\ncompany_name: 广州远智教育科技有限公司\\ncompany_size: 500-1000人\\ncompany_type: 民营公司\\njob_type: 销售代表培训/课程顾问\\njob_name: 课程顾问（双休底薪5000）\\nedu: 大专\\nsalary: 0.8-1万/月\\npeople_need: 招8人\\nwalfare: 周末双休带薪年假全勤奖节日福利年终奖金员工旅游每年多次调薪晋升空间大\\ncity: 广州-黄埔区\\nworkingexp: 无工作经验\\ncompany_area: 教育/培训/院校\\nwork_place: 上班地址：荔红一路8号科晟广场（香雪地铁站旁）A座3楼\\t\\t\\t\\t\\t\\t\\t\\nrequire_content: 岗位职责：1. 根据学校总体市场策略和目标，编制自己的招生计划；2. 合理利用客户资源，维护新老学员关系，努力提高招生质量和业绩目标；3. 按照学校计划和程序开展市场推广活动；4. 建立学员资料卡和档案，以便更好的服务学员，更好的增加招生业绩；5. 协助学员完成学业任务、学籍证明等在学期间的管理工作；6. 收集学员反馈意见，为公司产品升级，系统升级提供参考；7. 完成上级交办的其他工作。任职资格：1. 专科以上学历，专业不限；优秀者可放宽学历要求；2. 性格开朗，人品良好，沟通能力强；3. 对工作敢于自我挑战，有毅力、有激情，服从能力强。公司文化及福利待遇：1. 双休2. 福利待遇：无责任底薪5000+提成+年终奖入职次月为员工购买养老保险、医疗保险、失业保险、工伤保险和生育保险。3. 企业文化及活动：每月生日会、不定时下午茶、团队旅游4. 定期一次“远智一家亲”家庭式Party，员工的家人就是远智的家人！5. 每年至少一次的全体团队培训机会。面试请联系周老师：15622564436\\n\\ncrawl_datetime: /12/30\\npost_time: 12-29发布\\ncompany_name: 广州乐芙信息科技有限公司\\ncompany_size: 150-500人\\ncompany_type: 民营公司\\njob_type: 软件工程师系统架构设计师\\njob_name: ASP.NET高级工程师(双休）\\nedu: 大专\\nsalary: 20-30万/年\\npeople_need: 招1人\\nwalfare: 五险一金员工旅游专业培训出国机会绩效奖金年终奖金股票期权定期体检年底双薪交通便利\\ncity: 广州-天河区\\nworkingexp: 3-4年经验\\ncompany_area: 互联网/电子商务\\nwork_place: 上班地址：体育东路122号  羊城国际商贸中心  西塔26层整层\\t\\t\\t\\t\\t\\t\\t\\nrequire_content: 1、根据公司系统的情况，设计与之匹配的开发项目、模块、功能、交互；2、负责研发核心技术的研发和实现；3、依据重大项目研发制定有效的开发计划和落实时间；4、负责任跟进督促项目开发进度，保障项目的顺利开展；5、负责优化系统的运行顺畅性（优化 加载速度，增、删、改、查流程，不同环境遇到的bug修复，规范的代码书写习惯）积极应对项目遇到的困难；任职资格：1、规模性公司1年以上开发管理经验，3年以上开发经验，精通电商项目ASP.NET、AJAX，熟悉SQL SEVER数据库；2、精通C#，有丰富的大型系统的架构经验和分布式系统架构经验，熟练使用常用的设计模式；3、熟悉SQL SEVER或者MySQL数据库，熟练编写sql语句，至少使用过一种ORM框架，熟悉WCF、SOA、WebAPI等相关技术及概念；4、有BS系统开发经验，熟练掌握多种前端开发框架（easyUI、BootStrap、angularjs等）；5、熟练掌握HTMLCSSJavaScript（HTML+CSS+JavaScript）等前端技术；��\\u3000员工福利�OOur welfare公司福利：―丰厚的业绩提成；―五险一金、商业意外医疗险、工龄补贴、亲情补贴、年终双薪；―根据绩效考核成绩，每年两次晋升加薪机会；―公司股权期权激励；―员工依法享受各种国家法定假期，享受带薪年休假；―丰富的月度奖项，包括优秀员工奖、新人奖、业绩奖、勤奋奖、考勤奖等等；―提供带薪岗前培训、在职培训、管理能力培训等专业培训和广阔的职业发展空间；―每年最少两次的全体员工旅游安排及2次以上的优秀员工旅游安排；―梦想基金可提供十万以上的个人梦想基金帮助您实现购房买车的梦想；―丰富多彩的员工活动：生日会、年会、每月内部活动、篮球队、驴友团，随时邀请您参加；―本司设立了中国美容美体网慈善基金会，每年为有需要群体奉献爱心；��\\u3000发展前景�OOur future――员工收入：我们的业绩连续10年持续增长，发展前景十分广阔，员工收入十分稳定！――企业上市：我们正在进行战略扩张，计划在未来两年内挂牌上市，您将拥有一个更加高大上的事业舞台！――职业发展：我们为您提供多路径的职业发展通道，优秀员工拥有快速晋升的机会，管理岗位大部分从内部提拔培养！\\n\\ncrawl_datetime: /12/30\\npost_time: 12-29发布\\ncompany_name: 广州远智教育科技有限公司\\ncompany_size: 500-1000人\\ncompany_type: 民营公司\\njob_type: 网络/在线销售咨询员\\njob_name: 课程顾问（双休底薪5000）\\nedu: 大专\\nsalary: 0.8-1万/月\\npeople_need: 招8人\\nwalfare: 周末双休带薪年假全勤奖节日福利年终奖金员工旅游每年多次调薪晋升空间大\\ncity: 广州-黄埔区\\nworkingexp: 无工作经验\\ncompany_area: 教育/培训/院校\\nwork_place: 上班地址：荔红一路8号科晟广场（香雪地铁站旁）A座3楼\\t\\t\\t\\t\\t\\t\\t\\nrequire_content: 岗位职责：1. 根据学校总体市场策略和目标，编制自己的招生计划；2. 合理利用客户资源，维护新老学员关系，努力提高招生质量和业绩目标；3. 按照学校计划和程序开展市场推广活动；4. 建立学员资料卡和档案，以便更好的服务学员，更好的增加招生业绩；5. 协助学员完成学业任务、学籍证明等在学期间的管理工作；6. 收集学员反馈意见，为公司产品升级，系统升级提供参考；7. 完成上级交办的其他工作。任职资格：1. 专科以上学历，专业不限；优秀者可放宽学历要求；2. 性格开朗，人品良好，沟通能力强；3. 对工作敢于自我挑战，有毅力、有激情，服从能力强。公司文化及福利待遇：1. 双休2. 福利待遇：无责任底薪5000+提成+年终奖入职次月为员工购买养老保险、医疗保险、失业保险、工伤保险和生育保险。3. 企业文化及活动：每月生日会、不定时下午茶、团队旅游4. 定期一次“远智一家亲”家庭式Party，员工的家人就是远智的家人！5. 每年至少一次的全体团队培训机会。面试请联系周老师：15622564436\\n\\ncrawl_datetime: /12/30\\npost_time: 12-29发布\\ncompany_name: 广州远智教育科技有限公司\\ncompany_size: 500-1000人\\ncompany_type: 民营公司\\njob_type: 网络/在线销售咨询员\\njob_name: 课程顾问（双休底薪5000）\\nedu: 大专\\nsalary: 0.8-1万/月\\npeople_need: 招8人\\nwalfare: 周末双休带薪年假全勤奖节日福利年终奖金员工旅游每年多次调薪晋升空间大\\ncity: 广州-黄埔区\\nworkingexp: 无工作经验\\ncompany_area: 教育/培训/院校\\nwork_place: 上班地址：荔红一路8号科晟广场（香雪地铁站旁）A座3楼\\t\\t\\t\\t\\t\\t\\t\\nrequire_content: 岗位职责：1. 根据学校总体市场策略和目标，编制自己的招生计划；2. 合理利用客户资源，维护新老学员关系，努力提高招生质量和业绩目标；3. 按照学校计划和程序开展市场推广活动；4. 建立学员资料卡和档案，以便更好的服务学员，更好的增加招生业绩；5. 协助学员完成学业任务、学籍证明等在学期间的管理工作；6. 收集学员反馈意见，为公司产品升级，系统升级提供参考；7. 完成上级交办的其他工作。任职资格：1. 专科以上学历，专业不限；优秀者可放宽学历要求；2. 性格开朗，人品良好，沟通能力强；3. 对工作敢于自我挑战，有毅力、有激情，服从能力强。公司文化及福利待遇：1. 双休2. 福利待遇：无责任底薪5000+提成+年终奖入职次月为员工购买养老保险、医疗保险、失业保险、工伤保险和生育保险。3. 企业文化及活动：每月生日会、不定时下午茶、团队旅游4. 定期一次“远智一家亲”家庭式Party，员工的家人就是远智的家人！5. 每年至少一次的全体团队培训机会。面试请联系周老师：15622564436'"
      ]
     },
     "execution_count": 9,
     "metadata": {},
     "output_type": "execute_result"
    }
   ],
   "source": [
    "format_docs(docs)"
   ]
  },
  {
   "cell_type": "code",
   "execution_count": null,
   "metadata": {},
   "outputs": [],
   "source": []
  }
 ],
 "metadata": {
  "kernelspec": {
   "display_name": "dp4job",
   "language": "python",
   "name": "python3"
  },
  "language_info": {
   "codemirror_mode": {
    "name": "ipython",
    "version": 3
   },
   "file_extension": ".py",
   "mimetype": "text/x-python",
   "name": "python",
   "nbconvert_exporter": "python",
   "pygments_lexer": "ipython3",
   "version": "3.10.14"
  }
 },
 "nbformat": 4,
 "nbformat_minor": 2
}
